{
 "cells": [
  {
   "cell_type": "markdown",
   "id": "8ea3a876-a2a5-4d2b-8dfb-959ff9ee7225",
   "metadata": {},
   "source": [
    "# Data Science Tools and Ecosystem"
   ]
  },
  {
   "cell_type": "markdown",
   "id": "cf0667f4-bb15-4d06-86d5-b596d77e4865",
   "metadata": {},
   "source": [
    "In this notebook, Data Science Tools and Ecosystem are summarized."
   ]
  },
  {
   "cell_type": "markdown",
   "id": "7fd4e242-c9de-41f1-8587-a61368cf27e4",
   "metadata": {},
   "source": [
    "**Objectives:**\n",
    "* List popular languages for Data Science\n",
    "* List Some Libraries that been used in Data Science Field.\n",
    "* List Some Open Source Tools.\n",
    "* Some Basic Mathematical Expressions.\n",
    "* Minutes to Hours Converter."
   ]
  },
  {
   "cell_type": "markdown",
   "id": "53b8efe3-8994-4d41-b8b8-7549a942fb74",
   "metadata": {},
   "source": [
    "### Some of the popular languages that Data Scientists use are:\n",
    "1. R.\n",
    "2. Python.\n",
    "3. SQL(Structured Query Language)"
   ]
  },
  {
   "cell_type": "markdown",
   "id": "8d8b13af-87e3-414c-b60e-2770656f5f69",
   "metadata": {},
   "source": [
    "### Some of the commonly used libraries used by Data Scientists include:\n",
    "1. **R Library**\n",
    "- ggplot(data visualization)\n",
    "- dplyr(data manipulation)\n",
    "2. **Python Library**\n",
    "- Pandas(Data Structure and Tools)\n",
    "- Numpy(Array and Matrices)\n",
    "- Matplot-ib(Graphs,plots"
   ]
  },
  {
   "cell_type": "markdown",
   "id": "39de1b40-c672-439b-b325-952a945b8328",
   "metadata": {},
   "source": [
    "|Data Science Tools|\n",
    "----------------\n",
    "IBM DB2\n",
    "Power BI\n",
    "GitHub\n",
    "IBM Watsonx\n",
    "Apache Spark"
   ]
  },
  {
   "cell_type": "markdown",
   "id": "37c877c9-b7e9-43a8-a14e-a1b4f51270d9",
   "metadata": {},
   "source": [
    "### Below are a few examples of evaluating arithmetic expressions in Python\n"
   ]
  },
  {
   "cell_type": "code",
   "execution_count": 1,
   "id": "0b2ee204-099e-43ec-9e54-0b8471659d39",
   "metadata": {
    "tags": []
   },
   "outputs": [
    {
     "data": {
      "text/plain": [
       "17"
      ]
     },
     "execution_count": 1,
     "metadata": {},
     "output_type": "execute_result"
    }
   ],
   "source": [
    "#This a simple arithmetic expression to mutiply then add integers\n",
    "(3*4)+5"
   ]
  },
  {
   "cell_type": "markdown",
   "id": "2f8fa28d-4033-43e7-bdd2-e045d34678fb",
   "metadata": {},
   "source": [
    "#### Minutes to Hours Converter."
   ]
  },
  {
   "cell_type": "code",
   "execution_count": 3,
   "id": "ac3aa6b5-490a-4b9f-8891-45233f07e44d",
   "metadata": {
    "tags": []
   },
   "outputs": [
    {
     "name": "stdout",
     "output_type": "stream",
     "text": [
      "3.3333333333333335 Hrs\n"
     ]
    }
   ],
   "source": [
    "#This will convert 200 minutes to hours by diving by 60\n",
    "minutes = 200\n",
    "Hours = 200/60\n",
    "print(Hours,\"Hrs\")"
   ]
  },
{
   "cell_type": "markdown",
   "id": "4227a929-abdf-4d7f-a0f2-22a32734c7f7",
   "metadata": {},
   "source": [
    "## Author\n",
    "----\n",
    "Chirag."
   ]
  },
  {
   "cell_type": "code",
   "execution_count": null,
   "id": "ccb21e22-4a7f-4650-8b77-6562a7850e09",
   "metadata": {},
   "outputs": [],
   "source": []
  }
 ],
 "metadata": {
  "kernelspec": {
   "display_name": "Python",
   "language": "python",
   "name": "conda-env-python-py"
  },
  "language_info": {
   "codemirror_mode": {
    "name": "ipython",
    "version": 3
   },
   "file_extension": ".py",
   "mimetype": "text/x-python",
   "name": "python",
   "nbconvert_exporter": "python",
   "pygments_lexer": "ipython3",
   "version": "3.7.12"
  }
 },
 "nbformat": 4,
 "nbformat_minor": 5
}
